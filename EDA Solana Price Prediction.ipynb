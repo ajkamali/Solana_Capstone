file_path = r"C:\Users\...\df_filled.csv"
df_solana = pd.read_csv(file_path)
df_solana_dropped = df_solana.drop(['timestamp_H'], axis=1)
df_solana_dropped = df_solana_dropped.drop(['timestamp_x'], axis=1)
df_solana_dropped.head()
